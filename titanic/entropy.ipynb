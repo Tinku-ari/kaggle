{
 "metadata": {
  "name": "entropy"
 },
 "nbformat": 3,
 "nbformat_minor": 0,
 "worksheets": [
  {
   "cells": [
    {
     "cell_type": "code",
     "collapsed": false,
     "input": [
      "import math\n",
      "\n",
      "def entropy(p, n):\n",
      "    ''' \n",
      "    P = number of positive outcomes \n",
      "    N = number of negative outcomes \n",
      "    E(S) = - p(P)log2 p(P) - p(N)log2 p(N)\n",
      "    '''\n",
      "    prob_p = p/float(n + p)\n",
      "    prob_n = n/float(n + p)\n",
      "    first  = prob_p * math.log(prob_p, 2)\n",
      "    second = prob_n * math.log(prob_n, 2)\n",
      "    return -first - second\n",
      "    "
     ],
     "language": "python",
     "metadata": {},
     "outputs": [],
     "prompt_number": 4
    },
    {
     "cell_type": "code",
     "collapsed": false,
     "input": [
      "entropy(5, 6)"
     ],
     "language": "python",
     "metadata": {},
     "outputs": [
      {
       "output_type": "pyout",
       "prompt_number": 13,
       "text": [
        "0.9940302114769565"
       ]
      }
     ],
     "prompt_number": 13
    },
    {
     "cell_type": "code",
     "collapsed": false,
     "input": [],
     "language": "python",
     "metadata": {},
     "outputs": []
    }
   ],
   "metadata": {}
  }
 ]
}